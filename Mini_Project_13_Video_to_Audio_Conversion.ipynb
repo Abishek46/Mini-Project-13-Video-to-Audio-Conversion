{
  "nbformat": 4,
  "nbformat_minor": 0,
  "metadata": {
    "colab": {
      "provenance": [],
      "mount_file_id": "1oYS4qWLfx5qcZ-9CcHGKC8hbDuSPWj7-",
      "authorship_tag": "ABX9TyOcDTmdIN7Od5l0AuL2ZGCr",
      "include_colab_link": true
    },
    "kernelspec": {
      "name": "python3",
      "display_name": "Python 3"
    },
    "language_info": {
      "name": "python"
    }
  },
  "cells": [
    {
      "cell_type": "markdown",
      "metadata": {
        "id": "view-in-github",
        "colab_type": "text"
      },
      "source": [
        "<a href=\"https://colab.research.google.com/github/Abishek46/Mini-Project-13-Video-to-Audio-Conversion/blob/main/Mini_Project_13_Video_to_Audio_Conversion.ipynb\" target=\"_parent\"><img src=\"https://colab.research.google.com/assets/colab-badge.svg\" alt=\"Open In Colab\"/></a>"
      ]
    },
    {
      "cell_type": "code",
      "execution_count": 1,
      "metadata": {
        "colab": {
          "base_uri": "https://localhost:8080/"
        },
        "id": "d6od6DMFWI6e",
        "outputId": "44501d7a-fcb0-4a7c-818d-41c8ec4e676a"
      },
      "outputs": [
        {
          "output_type": "stream",
          "name": "stdout",
          "text": [
            "Collecting video2audio\n",
            "  Downloading video2audio-2023.1.14-py3-none-any.whl (7.4 kB)\n",
            "Installing collected packages: video2audio\n",
            "Successfully installed video2audio-2023.1.14\n"
          ]
        }
      ],
      "source": [
        "!pip install video2audio"
      ]
    },
    {
      "cell_type": "code",
      "source": [
        "from video2audio import AVFile\n",
        "f = AVFile('/content/drive/MyDrive/adroid/IMAGINE DRAGONS - BELIEVER (LYRICS).mp4')"
      ],
      "metadata": {
        "id": "kKQsnvV2WX66"
      },
      "execution_count": 2,
      "outputs": []
    },
    {
      "cell_type": "code",
      "source": [
        "f.extract_audio('IMAGINE DRAGONS - BELIEVER(LYRICS).mp3', chapter=None)"
      ],
      "metadata": {
        "id": "gXF_1P7CWZmx"
      },
      "execution_count": 4,
      "outputs": []
    }
  ]
}